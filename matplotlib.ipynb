{
  "nbformat": 4,
  "nbformat_minor": 0,
  "metadata": {
    "colab": {
      "provenance": [],
      "toc_visible": true,
      "authorship_tag": "ABX9TyMODeJwIxVGJy0FuFPgFuSl",
      "include_colab_link": true
    },
    "kernelspec": {
      "name": "python3",
      "display_name": "Python 3"
    },
    "language_info": {
      "name": "python"
    }
  },
  "cells": [
    {
      "cell_type": "markdown",
      "metadata": {
        "id": "view-in-github",
        "colab_type": "text"
      },
      "source": [
        "<a href=\"https://colab.research.google.com/github/zhaoyuanwei/zhaoyuanwei/blob/main/matplotlib.ipynb\" target=\"_parent\"><img src=\"https://colab.research.google.com/assets/colab-badge.svg\" alt=\"Open In Colab\"/></a>"
      ]
    },
    {
      "cell_type": "code",
      "execution_count": null,
      "metadata": {
        "id": "6aReYG7j1Z33"
      },
      "outputs": [],
      "source": [
        "l"
      ]
    },
    {
      "cell_type": "markdown",
      "source": [
        "## load necessary libraries"
      ],
      "metadata": {
        "id": "D5ldqLiI1cdt"
      }
    },
    {
      "cell_type": "code",
      "source": [
        "import matplotlib.pyplot as plt\n",
        "import numpy as np\n",
        "import pandas as pd\n"
      ],
      "metadata": {
        "id": "gZw0QS7p1lL-"
      },
      "execution_count": 2,
      "outputs": []
    },
    {
      "cell_type": "markdown",
      "source": [
        "## Basic Gragh\n"
      ],
      "metadata": {
        "id": "5dXDVokI2kcn"
      }
    },
    {
      "cell_type": "code",
      "source": [
        "x=[1,2,2,4,5,6]\n",
        "y=[1,2,3,6,5,9]\n",
        "#resize your figure\n",
        "plt.figure(figsize=(2,1.5),dpi=300)\n",
        "\n",
        "\n",
        "#plt.plot(x,y,label='2x',color='red',linewidth=2,marker='.',linestyle=\"dashdot\",markersize=10,markeredgecolor='blue')\n",
        "# use shorthand notation\n",
        "#fmt='[color,marker,line]\n",
        "#plt.plot(x,y,'b^- -,lable='x^2')\n",
        "\n",
        "plt.plot(x,y，label='2x')\n",
        "plt.plot（x2[5:）\n",
        "\n",
        "## line number two\n",
        "x2=np.arange(0,4.5,0.5) \n",
        "\n",
        "plt.plot(x2[:4],x2[:4]**2,'r',label='x^2')\n",
        "\n",
        "plt.title('our fist gragh!')\n",
        "plt.xlabel('X axis')\n",
        "plt.ylabel('y ')\n",
        "\n",
        "plt.xticks([0,1,2,3,4])\n",
        "plt.yticks([0,2,4,6,8,10])\n",
        "\n",
        "plt.legend()\n",
        "plt.show()"
      ],
      "metadata": {
        "colab": {
          "base_uri": "https://localhost:8080/",
          "height": 138
        },
        "id": "zjG8PCKI129s",
        "outputId": "61954395-bea8-4ab1-e652-797125021c23"
      },
      "execution_count": 42,
      "outputs": [
        {
          "output_type": "error",
          "ename": "SyntaxError",
          "evalue": "ignored",
          "traceback": [
            "\u001b[0;36m  File \u001b[0;32m\"<ipython-input-42-74d11979e960>\"\u001b[0;36m, line \u001b[0;32m12\u001b[0m\n\u001b[0;31m    plt.plot(x,y，label='2x')\u001b[0m\n\u001b[0m                     ^\u001b[0m\n\u001b[0;31mSyntaxError\u001b[0m\u001b[0;31m:\u001b[0m invalid character in identifier\n"
          ]
        }
      ]
    },
    {
      "cell_type": "code",
      "source": [
        "labels=['A','B','C']\n",
        "values=[1,4,2]\n",
        "\n",
        "bars=plt.bar(labels,values)\n",
        "\n",
        "patterns=['/','o','*']\n",
        "for bar in bars:\n",
        "  bar.set_hatch(patterns.pop(0))\n",
        "\n",
        "\n",
        "\n",
        "plt.figure(figsize=(6,4))\n",
        "plt.show()"
      ],
      "metadata": {
        "colab": {
          "base_uri": "https://localhost:8080/",
          "height": 283
        },
        "id": "OC0100mo272y",
        "outputId": "0223ff16-1ba8-47f4-c7b3-0069387f9a10"
      },
      "execution_count": 53,
      "outputs": [
        {
          "output_type": "display_data",
          "data": {
            "text/plain": [
              "<Figure size 432x288 with 1 Axes>"
            ],
            "image/png": "[encoded data removed]"
          },
          "metadata": {
            "needs_background": "light"
          }
        },
        {
          "output_type": "display_data",
          "data": {
            "text/plain": [
              "<Figure size 432x288 with 0 Axes>"
            ]
          },
          "metadata": {}
        }
      ]
    },
    {
      "cell_type": "markdown",
      "source": [
        "# 新段落"
      ],
      "metadata": {
        "id": "_c6VKsBvMEDf"
      }
    },
    {
      "cell_type": "code",
      "source": [],
      "metadata": {
        "id": "vlrqBXL_KsWd"
      },
      "execution_count": null,
      "outputs": []
    }
  ]
}